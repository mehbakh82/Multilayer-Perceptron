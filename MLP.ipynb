{
 "cells": [
  {
   "cell_type": "markdown",
   "metadata": {},
   "source": [
    "\n",
    "<br>\n",
    "<font>\n",
    "<div dir=ltr align=center>\n",
    "<img src=\"https://cdn.freebiesupply.com/logos/large/2x/sharif-logo-png-transparent.png\" width=150 height=150> <br>\n",
    "<font color=0F5298 size=7>\n",
    "Artificial Intelligence <br>\n",
    "<font color=2565AE size=5>\n",
    "Computer Engineering Department <br>\n",
    "Spring 2024<br>\n",
    "<font color=3C99D size=5>\n",
    "Practical Assignment 4 - Multilayer Perceptron <br>\n",
    "<font color=696880 size=4>\n",
    "Sina Namazi\n",
    "\n",
    "\n",
    "____"
   ]
  },
  {
   "cell_type": "markdown",
   "metadata": {},
   "source": [
    "## Personal Data\n",
    "\n",
    "Please fill in your details below to help us keep track of your submission."
   ]
  },
  {
   "cell_type": "code",
   "execution_count": 2,
   "metadata": {},
   "outputs": [],
   "source": [
    "student_number = \"400104801\"\n",
    "Name = \"Mehran\"\n",
    "Last_Name = \"Bakhtiari\""
   ]
  },
  {
   "cell_type": "markdown",
   "metadata": {},
   "source": [
    "## Libraries"
   ]
  },
  {
   "cell_type": "code",
   "execution_count": 3,
   "metadata": {},
   "outputs": [],
   "source": [
    "from tqdm import tqdm\n",
    "import numpy as np\n",
    "import matplotlib.pyplot as plt\n",
    "\n",
    "import torch\n",
    "import torchvision\n",
    "import torchvision.transforms as transforms"
   ]
  },
  {
   "cell_type": "markdown",
   "metadata": {},
   "source": [
    "## Introduction:\n",
    "\n",
    "In this Notebook, we introduce the fundamental concepts of neural networks, focusing specifically on the architecture and functionality of Multilayer Perceptrons (MLPs). MLPs are a class of feedforward artificial neural networks that consist of multiple layers of nodes, each layer fully connected to the next. These networks are widely used for a variety of machine learning tasks, including classification and regression. The core idea behind MLPs is to learn complex functions by adjusting the weights and biases of the network through a process known as training, typically involving backpropagation and an optimization algorithm like gradient descent.\n",
    "\n",
    "\n",
    "To provide a practical context to these concepts, we will be working with the MNIST dataset, a large collection of handwritten digits commonly used for training and testing in the field of machine learning. The dataset consists of 60,000 training images and 10,000 test images, each being a 28x28 pixel grayscale image of digits ranging from 0 to 9. The simplicity and size of the MNIST dataset make it an excellent choice for exploring and understanding the mechanics of neural networks, particularly in recognizing patterns and classifying images. Throughout this notebook, we will apply MLPs to this dataset, exploring every step of the process from data preparation and exploration to model training and evaluation."
   ]
  },
  {
   "cell_type": "markdown",
   "metadata": {},
   "source": [
    "## Getting the Data\n",
    "\n",
    "\n",
    "The following Python cell performs two primary actions: it loads the MNIST dataset and then splits it into two distinct sets - one for training and one for testing. \n",
    "\n",
    "- `X_train, Y_train`: These variables represent the training set. `X_train` contains the images of handwritten digits, and `Y_train` contains the corresponding labels that indicate the actual digit each image represents (0 through 9).\n",
    "- `X_test, Y_test`: Similarly, these variables represent the test set. `X_test` includes the images reserved for testing the model's performance, while `Y_test` contains the labels for these images.\n",
    "\n",
    "By executing the next cell, you will download the dataset and prepare these variables.\n",
    "\n",
    "**There is no need to change the following cell.**\n"
   ]
  },
  {
   "cell_type": "code",
   "execution_count": null,
   "metadata": {},
   "outputs": [],
   "source": [
    "# Load the MNIST dataset\n",
    "transform = transforms.Compose([\n",
    "    transforms.ToTensor()\n",
    "])\n",
    "\n",
    "trainset = torchvision.datasets.MNIST(root='./data', train=True, download=True)\n",
    "testset = torchvision.datasets.MNIST(root='./data', train=False, download=True)\n",
    "\n",
    "X_train_torch = trainset.data\n",
    "Y_train_torch = trainset.targets\n",
    "\n",
    "X_test_torch = testset.data\n",
    "Y_test_torch = testset.targets\n",
    "\n",
    "\n",
    "\n",
    "# Training Images:\n",
    "X_train = X_train_torch.numpy()\n",
    "# Training Labels:\n",
    "Y_train = Y_train_torch.numpy()\n",
    "\n",
    "# Test Images:\n",
    "X_test = X_test_torch.numpy()\n",
    "# Test Labels:\n",
    "Y_test = Y_test_torch.numpy()"
   ]
  },
  {
   "cell_type": "markdown",
   "metadata": {},
   "source": [
    "## Exploratory Data Analysis: (5 Points)\n",
    "\n",
    "Before diving into model building, it's crucial to perform an exploratory data analysis (EDA) to understand the characteristics and structure of the dataset at hand. EDA involves visualizing the data, identifying patterns, understanding the distribution of variables, and spotting any anomalies or outliers. This step not only helps in making informed decisions about data preprocessing and model design but also provides insights that could be useful for feature engineering.\n",
    "\n",
    "Here are two examples of EDA for the MNIST dataset, which consists of handwritten digits:\n",
    "\n",
    "1. **Visualizing Sample Images**:\n",
    "   - Display a few sample images from the dataset to get a sense of what the handwritten digits look like. This can help in understanding the variety of handwriting styles and the clarity of images.\n",
    "\n",
    "</br>\n",
    "\n",
    "2. **Checking the Distribution of Classes**:\n",
    "   - Plot the frequency of each digit (0-9) in the dataset to check if the dataset is balanced. This is crucial as an imbalanced dataset may need special treatment during training, such as class weighting or resampling techniques."
   ]
  },
  {
   "cell_type": "code",
   "execution_count": null,
   "metadata": {},
   "outputs": [],
   "source": [
    "def plot_sample_images(X, Y, num_samples=10):\n",
    "    plt.figure(figsize=(10, 1))\n",
    "    for i in range(num_samples):\n",
    "        plt.subplot(1, num_samples, i + 1)\n",
    "        plt.imshow(X[i], cmap='gray')\n",
    "        plt.title(f\"Label: {Y[i]}\")\n",
    "        plt.axis('off')\n",
    "    plt.show()\n",
    "\n",
    "def plot_class_distribution(Y):\n",
    "    plt.figure(figsize=(10, 5))\n",
    "    unique, counts = np.unique(Y, return_counts=True)\n",
    "    plt.bar(unique, counts, color='blue')\n",
    "    plt.xlabel('Digit')\n",
    "    plt.ylabel('Frequency')\n",
    "    plt.title('Distribution of Digits in the MNIST Dataset')\n",
    "    plt.show()\n",
    "\n",
    "plot_sample_images(X_train, Y_train, num_samples=10)\n",
    "\n",
    "plot_class_distribution(Y_train)"
   ]
  },
  {
   "cell_type": "markdown",
   "metadata": {},
   "source": [
    "## Data Split: (5 Points)\n",
    "\n",
    "To evaluate the performance of our MLP model effectively, we divide the dataset into three distinct sets: training, validation, and test sets. The training set is used to train the model, where the model learns to make predictions by adjusting its parameters. The validation set is used to fine-tune the hyperparameters and make informed decisions about the model architecture without overfitting to the training data. Finally, the test set is utilized to assess the model's performance on unseen data, providing an unbiased evaluation of its ability to generalize.\n",
    "\n",
    "In the next cell, you should take the initial training set `(X_train, Y_train)` and further split it into validation `(X_val, Y_val)` and revised training sets `(X_train, Y_train)` using a 1:5 ratio. This process ensures that we have a separate dataset to validate the model's performance during the training phase, helping us to avoid overfitting and ensuring that our model generalizes well to new, unseen data."
   ]
  },
  {
   "cell_type": "code",
   "execution_count": null,
   "metadata": {},
   "outputs": [],
   "source": [
    "val_ratio = 1 / 6\n",
    "\n",
    "X_train, X_val, Y_train, Y_val = train_test_split(X_train, Y_train, test_size=val_ratio, random_state=42, stratify=Y_train)"
   ]
  },
  {
   "cell_type": "markdown",
   "metadata": {},
   "source": [
    "## Preparation of the Data:\n",
    "\n",
    "Data preparation is a critical step in the machine learning pipeline. This process includes cleaning the data, handling missing values, normalizing or standardizing the data, and reshaping it into a format suitable for the neural network. Proper data preparation ensures that the model learns effectively and achieves high performance.\n",
    "\n",
    "In the next cell, we will focus on preparing the MNIST dataset for our MLP model. Given that the MNIST images are grayscale with pixel values ranging from 0 to 255, we will start by normalizing these values to a range of 0 to 1. This normalization helps in speeding up the convergence of the neural network by providing a consistent scale of input values. Additionally, we will reshape the images from their original 2D shape (28x28 pixels) into a flat 1D vector of 784 elements. This step is necessary because our MLP model expects input vectors of a fixed size.\n",
    "\n",
    "**There is no need to change the following cell.**\n"
   ]
  },
  {
   "cell_type": "code",
   "execution_count": null,
   "metadata": {},
   "outputs": [],
   "source": [
    "# Normalize the images\n",
    "X_train = X_train / 255\n",
    "X_val = X_val / 255\n",
    "X_test = X_test / 255\n",
    "\n",
    "# Flatten the images\n",
    "X_train = X_train.reshape(X_train.shape[0], -1)\n",
    "X_val = X_val.reshape(X_val.shape[0], -1)\n",
    "X_test = X_test.reshape(X_test.shape[0], -1)"
   ]
  },
  {
   "cell_type": "markdown",
   "metadata": {},
   "source": [
    "## Preparation of Model Parameters:\n",
    "\n",
    "Initializing the parameters of an MLP, including weights and biases, is an important step that can significantly affect the model's learning process. Proper initialization can help in preventing issues related to vanishing or exploding gradients, thereby ensuring a stable and efficient training process.\n",
    "\n",
    "In the next cell, we define the architecture of our neural network and initialize its weights and biases. Our network consists of an input layer, three hidden layers, and an output layer, structured as follows:\n",
    "\n",
    "- `n_inp`: Represents the number of neurons in the input layer, determined by the number of features in `X_train`.\n",
    "- `n_hid1`, `n_hid2`, `n_hid3`: Denote the number of neurons in the first, second, and third hidden layers, respectively, set to 256, 128, and 64 for a progressively narrowing architecture.\n",
    "- `n_out`: The number of neurons in the output layer, set to 10, corresponding to the number of possible classifications (for example, digits 0-9 in the MNIST dataset).\n",
    "\n",
    "For each layer, we initialize the weights and biases as follows:\n",
    "- `W1`, `W2`, `W3`, `W4`: Weight matrices for the first, second, third, and output layers, initialized with small random values drawn from a normal distribution, scaled by 0.01 to keep the values small.\n",
    "- `B1`, `B2`, `B3`, `B4`: Bias vectors for each layer, also initialized with small random values, similarly scaled.\n",
    "\n",
    "A random seed (`manual_seed(42)`) is set for reproducibility, ensuring that the random numbers generated are the same each time the code is run. This aids in debugging and comparing model performances across different runs.\n",
    "\n",
    "**There is no need to change the following cell.**"
   ]
  },
  {
   "cell_type": "code",
   "execution_count": 5,
   "metadata": {},
   "outputs": [],
   "source": [
    "# Defining the Sizes of the Layers\n",
    "n_inp = X_train.shape[1]\n",
    "n_hid1 = 256\n",
    "n_hid2 = 128\n",
    "n_hid3 = 64\n",
    "n_out = 10\n",
    "\n",
    "# Seed for Reproducibility\n",
    "g = torch.Generator().manual_seed(42)\n",
    "\n",
    "# Weights and Biases of the First Layer:\n",
    "W1 = torch.randn(n_inp, n_hid1, generator=g, requires_grad=True) * 0.01\n",
    "B1 = torch.randn(1, n_hid1, generator=g, requires_grad=True) * 0.01\n",
    "\n",
    "# Weights and Biases of the Second Layer:\n",
    "W2 = torch.randn(n_hid1, n_hid2, generator=g, requires_grad=True) * 0.01\n",
    "B2 = torch.randn(1, n_hid2, generator=g, requires_grad=True) * 0.01\n",
    "\n",
    "# Weights and Biases of the Third Layer:\n",
    "W3 = torch.randn(n_hid2, n_hid3, generator=g, requires_grad=True) * 0.01\n",
    "B3 = torch.randn(1, n_hid3, generator=g, requires_grad=True) * 0.01\n",
    "\n",
    "# Weights and Biases of the Fourth Layer:\n",
    "W4 = torch.randn(n_hid3, n_out, generator=g, requires_grad=True) * 0.01\n",
    "B4 = torch.randn(1, n_out, generator=g, requires_grad=True) * 0.01"
   ]
  },
  {
   "cell_type": "markdown",
   "metadata": {},
   "source": [
    "## Forward Pass:\n",
    "\n",
    "The forward pass refers to the computation process where the input data is passed through the network layer by layer to produce the output. At each layer, the input is transformed using a linear transformation (weighted sum followed by the addition of a bias term) and then typically passed through a non-linear activation function. The output of the final layer is considered the prediction of the network. This step is crucial for both training and evaluation of the model.\n",
    "\n",
    "In the next cell, we will illustrate the forward pass using our MLP model designed for the MNIST dataset. We will walk through the process step by step, starting with the input layer, moving through the hidden layers, and finally to the output layer. For each layer, we will apply the linear transformation, followed by an activation function for hidden layers. The final layer will use the softmax function to produce a probability distribution over the 10 possible digit classes.\n",
    "\n",
    "\n",
    "Here's a step-by-step breakdown:\n",
    "\n",
    "- `batch_size = 32`: This specifies the number of training examples to process simultaneously, which affects the efficiency of training and the generalization capability of the model.\n",
    "\n",
    "**Layer 1:**\n",
    "- `PreActivation1`: Result of the linear transformation applied to the input, computed as `sample_inp @ W1 + B1`, resulting in dimensions `[batch_size, n_hid1]`.\n",
    "- `Hidden1`: Output after applying the sigmoid activation function to `PreActivation1`, maintaining dimensions `[batch_size, n_hid1]`.\n",
    "\n",
    "**Layer 2:**\n",
    "- `PreActivation2`: Linear transformation for the second layer, using `Hidden1` as input, resulting in dimensions `[batch_size, n_hid2]`.\n",
    "- `Hidden2`: Output after applying the ReLU activation function to `PreActivation2`, with dimensions `[batch_size, n_hid2]`.\n",
    "\n",
    "**Layer 3:**\n",
    "- `PreActivation3`: Linear transformation for the third layer, with dimensions `[batch_size, n_hid3]`.\n",
    "- `Hidden3`: Output after applying the tanh activation function to `PreActivation3`, maintaining dimensions `[batch_size, n_hid3]`.\n",
    "\n",
    "**Layer 4 (Output Layer):**\n",
    "- `Logits`: Result of the final linear transformation applied to `Hidden3`, with dimensions `[batch_size, n_out]`, where `n_out` is the number of output classes.\n",
    "- `Probs`: Probabilities for each class, obtained by applying the softmax function to `Logits`, with dimensions `[batch_size, n_out]`. The softmax ensures these probabilities sum to 1 for each sample.\n",
    "\n",
    "**Loss Computation:**\n",
    "- `LogProbs`: Logarithm of `Probs`, necessary for computing cross-entropy loss, maintaining dimensions `[batch_size, n_out]`.\n",
    "- `Loss`: The cross-entropy loss for the batch, calculated by taking the negative log likelihood of the correct class probabilities (indexed by `sample_out`) and averaging, resulting in a single scalar value. This metric quantifies the model's prediction accuracy, guiding parameter adjustments during training.\n",
    "\n",
    "**There is no need to change the following cell.**\n",
    "\n"
   ]
  },
  {
   "cell_type": "code",
   "execution_count": 6,
   "metadata": {},
   "outputs": [],
   "source": [
    "batch_size = 32\n",
    "sample_inp = torch.Tensor(X_train[:batch_size])\n",
    "sample_out = torch.Tensor(Y_train[:batch_size]).int()\n",
    "\n",
    "# Forward pass\n",
    "\n",
    "# Layer 1\n",
    "# Applying Linear transformation\n",
    "PreActivation1 = sample_inp @ W1 + B1\n",
    "# Applying Sigmoid activation function\n",
    "Hidden1 = torch.sigmoid(PreActivation1)\n",
    "\n",
    "# Layer 2\n",
    "# Applying Linear transformation\n",
    "PreActivation2 = Hidden1 @ W2 + B2\n",
    "# Applying ReLU activation function\n",
    "Hidden2 = torch.relu(PreActivation2)\n",
    "\n",
    "# Layer 3\n",
    "# Applying Linear transformation\n",
    "PreActivation3 = Hidden2 @ W3 + B3\n",
    "# Applying Tanh activation function\n",
    "Hidden3 = torch.tanh(PreActivation3)\n",
    "\n",
    "\n",
    "# Layer 4\n",
    "# Applying Linear transformation\n",
    "Logits = Hidden3 @ W4 + B4\n",
    "# Applying Softmax activation function\n",
    "Exp4 = torch.exp(Logits)\n",
    "Sum4 = torch.sum(Exp4, dim=1).view(-1, 1)\n",
    "SumInverse4 = 1 / Sum4\n",
    "Probs = Exp4 * SumInverse4\n",
    "\n",
    "# Loss computation (Cross-entropy loss)\n",
    "LogProbs = Probs.log()\n",
    "Loss = -LogProbs[range(batch_size), sample_out].mean()"
   ]
  },
  {
   "cell_type": "markdown",
   "metadata": {},
   "source": [
    "## Backward Pass and Gradient Computation:\n",
    "\n",
    "Following the forward pass, the next critical phase in training a neural network is the backward pass, which involves computing the gradients of the loss function with respect to each parameter in the model. This process, often facilitated by automatic differentiation libraries like PyTorch's `autograd`, allows us to understand how each parameter needs to be adjusted to minimize the loss.\n",
    "\n",
    "In the next cell, we will compute the gradients of our model using `autograd` and save all the values as numpy arrays.\n",
    "\n",
    "\n",
    "\n",
    "\n",
    "Here's a breakdown of the variables in the code:\n",
    "\n",
    "- **`parameters`:** A list containing all the trainable parameters of the network, including the weights (`W1`, `W2`, `W3`, `W4`) and biases (`B1`, `B2`, `B3`, `B4`) of each layer.\n",
    "\n",
    "- **`middle_values`:** A list of intermediate values computed during the forward pass. These include pre-activation values (`PreActivation1`, `PreActivation2`, `PreActivation3`), hidden layer outputs (`Hidden1`, `Hidden2`, `Hidden3`), and other intermediate computations (`Logits`, `Exp4`, `Sum4`, `SumInverse4`, `Probs`, `LogProbs`) crucial for the loss calculation.\n",
    "\n",
    "- **Weights (`W1`, `W2`, `W3`, `W4`):** These matrices represent the wights of different layers of our model saved as NumPy arrays.\n",
    "\n",
    "- **Biases (`B1`, `B2`, `B3`, `B4`):** These matrices represent the biases of different layers of our model saved as NumPy arrays.\n",
    "\n",
    "- **Weight Gradients (`W1_grad`, `W2_grad`, `W3_grad`, `W4_grad`):** After the backward pass, `W1_grad` holds the gradients of the loss function with respect to `W1`, and similarly for the other weight matrices. All these matrices are saved as NumPy arrays.\n",
    "\n",
    "- **Bias Gradients (`B1_grad`, `B2_grad`, `B3_grad`, `B4_grad`):** Similar to weight gradients, these vectors contain the gradients of the loss with respect to the biases. `B1_grad` is associated with the biases of the first hidden layer, `B2_grad` with the second, and so on. All these vectors are saved as NumPy arrays.\n",
    "\n",
    "**There is no need to change the following cell.**\n"
   ]
  },
  {
   "cell_type": "code",
   "execution_count": 7,
   "metadata": {},
   "outputs": [],
   "source": [
    "parameters = [W1, B1, W2, B2, W3, B3, W4, B4]\n",
    "\n",
    "middle_values = [PreActivation1, Hidden1,\n",
    "                 PreActivation2, Hidden2,\n",
    "                 PreActivation3, Hidden3,\n",
    "                 Logits, Exp4, Sum4, SumInverse4, Probs, \n",
    "                 LogProbs]\n",
    "\n",
    "# Backward pass (autograd)\n",
    "for p in parameters:\n",
    "    p.grad = None\n",
    "    p.retain_grad()\n",
    "for m in middle_values:\n",
    "    m.retain_grad()\n",
    "Loss.backward()\n",
    "\n",
    "Loss = np.array(Loss.detach())\n",
    "\n",
    "LogProbs_grad = np.array(LogProbs.grad)\n",
    "LogProbs = np.array(LogProbs.detach())\n",
    "\n",
    "Probs_grad = np.array(Probs.grad)\n",
    "Probs = np.array(Probs.detach())\n",
    "\n",
    "SumInverse4_grad = np.array(SumInverse4.grad)\n",
    "SumInverse4 = np.array(SumInverse4.detach())\n",
    "\n",
    "Sum4_grad = np.array(Sum4.grad)\n",
    "Sum4 = np.array(Sum4.detach())\n",
    "\n",
    "Exp4_grad = np.array(Exp4.grad)\n",
    "Exp4 = np.array(Exp4.detach())\n",
    "\n",
    "Logits_grad = np.array(Logits.grad)\n",
    "Logits = np.array(Logits.detach())\n",
    "\n",
    "B4_grad = np.array(B4.grad)\n",
    "B4 = np.array(B4.detach())\n",
    "\n",
    "W4_grad = np.array(W4.grad)\n",
    "W4 = np.array(W4.detach())\n",
    "\n",
    "Hidden3_grad = np.array(Hidden3.grad)\n",
    "Hidden3 = np.array(Hidden3.detach())\n",
    "\n",
    "PreActivation3_grad = np.array(PreActivation3.grad)\n",
    "PreActivation3 = np.array(PreActivation3.detach())\n",
    "\n",
    "B3_grad = np.array(B3.grad)\n",
    "B3 = np.array(B3.detach())\n",
    "\n",
    "W3_grad = np.array(W3.grad)\n",
    "W3 = np.array(W3.detach())\n",
    "\n",
    "Hidden2_grad = np.array(Hidden2.grad)\n",
    "Hidden2 = np.array(Hidden2.detach())\n",
    "\n",
    "PreActivation2_grad = np.array(PreActivation2.grad)\n",
    "PreActivation2 = np.array(PreActivation2.detach())\n",
    "\n",
    "B2_grad = np.array(B2.grad)\n",
    "B2 = np.array(B2.detach())\n",
    "\n",
    "W2_grad = np.array(W2.grad)\n",
    "W2 = np.array(W2.detach())\n",
    "\n",
    "Hidden1_grad = np.array(Hidden1.grad)\n",
    "Hidden1 = np.array(Hidden1.detach())\n",
    "\n",
    "PreActivation1_grad = np.array(PreActivation1.grad)\n",
    "PreActivation1 = np.array(PreActivation1.detach())\n",
    "\n",
    "B1_grad = np.array(B1.grad)\n",
    "B1 = np.array(B1.detach())\n",
    "\n",
    "W1_grad = np.array(W1.grad)\n",
    "W1 = np.array(W1.detach())\n",
    "\n",
    "sample_inp = np.array(sample_inp)\n",
    "sample_out = np.array(sample_out)"
   ]
  },
  {
   "cell_type": "markdown",
   "metadata": {},
   "source": [
    "## Manual Gradient Calculation by Chain Rule: (50 Points)\n",
    "\n",
    "The chain rule is a fundamental principle in calculus that facilitates the computation of complex derivatives by breaking them down into simpler parts. In the context of neural networks, the chain rule enables the efficient calculation of gradients of the loss function with respect to any parameter in the network, regardless of its position. This process is crucial for understanding how changes in parameters affect the overall loss, guiding the optimization process towards lower loss values.\n",
    "\n",
    "In the next cells, we will start a hands-on exploration of this concept by manually calculating the gradients for selected parts of our model. This exercise will not only deepen your understanding of backpropagation  but also reinforce the mathematical intuition behind the learning process.\n",
    "\n",
    "We will proceed as follows:\n",
    "\n",
    "1. **Identify Key Operations:** We will start by pinpointing the key operations in our model that contribute to the final prediction. This includes linear transformations, activation functions, and the final loss computation.\n",
    "   \n",
    "2. **Compute Local Gradients:** For each operation, we will compute the local gradient, which represents the rate of change of the operation's output with respect to its input.\n",
    "\n",
    "3. **Apply the Chain Rule:** Using the chain rule, we will then piece together these local gradients to compute the gradient of the loss function with respect to each parameter in our model. This involves multiplying the local gradients along the paths from the output back to each parameter.\n",
    "\n",
    "4. **Verify Your Calculations:** Finally, we will compare our manually computed gradients with those obtained using automatic differentiation (e.g., PyTorch's `autograd`), ensuring the correctness of our computations. For example `dLogProbs` that you manualy calculate should be equal to the `LogProbs_grad` that we calculated before using PyTorch's autograd and we will verify that by `check()` function.\n",
    "\n",
    "\n",
    "**HINT:** As you start doing manual gradient calculation, keep in mind that the gradient of any parameter or intermediate variable should retain the same dimensions as the original array.\n",
    "\n",
    "Additionally, all calculations in this exercise **should be performed using NumPy** and its functions.\n",
    "\n",
    "**Please complete the #TODO parts of the following cells**\n",
    "\n"
   ]
  },
  {
   "cell_type": "code",
   "execution_count": 8,
   "metadata": {},
   "outputs": [],
   "source": [
    "# Function to compare manually computed gradients with PyTorch (autograd) gradients\n",
    "def check(s, manual_grad, autograd_grad):\n",
    "  corrcetness = np.allclose(manual_grad, autograd_grad)\n",
    "  print(f'{s:15s} | Gradient Correctness: {str(corrcetness):5s}')"
   ]
  },
  {
   "cell_type": "code",
   "execution_count": 9,
   "metadata": {},
   "outputs": [
    {
     "name": "stdout",
     "output_type": "stream",
     "text": [
      "LogProbs        | Gradient Correctness: True \n"
     ]
    }
   ],
   "source": [
    "dLogProbs = np.zeros_like(LogProbs)\n",
    "\n",
    "for i in range(batch_size):\n",
    "    dLogProbs[i, sample_out[i]] = -1 / batch_size\n",
    "\n",
    "check('LogProbs', dLogProbs, LogProbs_grad)"
   ]
  },
  {
   "cell_type": "code",
   "execution_count": 10,
   "metadata": {},
   "outputs": [
    {
     "name": "stdout",
     "output_type": "stream",
     "text": [
      "Probs           | Gradient Correctness: True \n",
      "SumInverse4     | Gradient Correctness: True \n",
      "Sum4            | Gradient Correctness: True \n",
      "Exp4            | Gradient Correctness: True \n",
      "Logits          | Gradient Correctness: True \n",
      "B4              | Gradient Correctness: True \n",
      "W4              | Gradient Correctness: True \n",
      "Hidden3         | Gradient Correctness: True \n"
     ]
    }
   ],
   "source": [
    "dProbs = dLogProbs * Probs\n",
    "check('Probs', dProbs, Probs_grad)\n",
    "\n",
    "dSumInverse4 = np.sum(Exp4 * dProbs, axis=1, keepdims=True)\n",
    "check('SumInverse4', dSumInverse4, SumInverse4_grad)\n",
    "\n",
    "dSum4 = -dSumInverse4 / (Sum4 ** 2)\n",
    "check('Sum4', dSum4, Sum4_grad)\n",
    "\n",
    "dExp4 = dProbs * SumInverse4\n",
    "check('Exp4', dExp4, Exp4_grad)\n",
    "\n",
    "dLogits = dExp4 * Exp4\n",
    "check('Logits', dLogits, Logits_grad)\n",
    "\n",
    "dB4 = np.sum(dLogits, axis=0, keepdims=True)\n",
    "check('B4', dB4, B4_grad)\n",
    "\n",
    "dW4 = Hidden3.T @ dLogits\n",
    "check('W4', dW4, W4_grad)\n",
    "\n",
    "dHidden3 = dLogits @ W4.T\n",
    "check('Hidden3', dHidden3, Hidden3_grad)"
   ]
  },
  {
   "cell_type": "code",
   "execution_count": 11,
   "metadata": {},
   "outputs": [
    {
     "name": "stdout",
     "output_type": "stream",
     "text": [
      "PreActivation3  | Gradient Correctness: True \n",
      "B3              | Gradient Correctness: True \n",
      "W3              | Gradient Correctness: True \n",
      "Hidden2         | Gradient Correctness: True \n"
     ]
    }
   ],
   "source": [
    "dPreActivation3 = dHidden3 * (1 - Hidden3 ** 2)\n",
    "check('PreActivation3', dPreActivation3, PreActivation3_grad)\n",
    "\n",
    "dB3 = np.sum(dPreActivation3, axis=0, keepdims=True)\n",
    "check('B3', dB3, B3_grad)\n",
    "\n",
    "dW3 = Hidden2.T @ dPreActivation3\n",
    "check('W3', dW3, W3_grad)\n",
    "\n",
    "dHidden2 = dPreActivation3 @ W3.T\n",
    "check('Hidden2', dHidden2, Hidden2_grad)"
   ]
  },
  {
   "cell_type": "code",
   "execution_count": 12,
   "metadata": {},
   "outputs": [
    {
     "name": "stdout",
     "output_type": "stream",
     "text": [
      "PreActivation2  | Gradient Correctness: True \n",
      "B2              | Gradient Correctness: True \n",
      "W2              | Gradient Correctness: True \n",
      "Hidden1         | Gradient Correctness: True \n"
     ]
    }
   ],
   "source": [
    "dPreActivation2 = dHidden2 * (PreActivation2 > 0)\n",
    "check('PreActivation2', dPreActivation2, PreActivation2_grad)\n",
    "\n",
    "dB2 = np.sum(dPreActivation2, axis=0, keepdims=True)\n",
    "check('B2', dB2, B2_grad)\n",
    "\n",
    "dW2 = Hidden1.T @ dPreActivation2\n",
    "check('W2', dW2, W2_grad)\n",
    "\n",
    "dHidden1 = dPreActivation2 @ W2.T\n",
    "check('Hidden1', dHidden1, Hidden1_grad)"
   ]
  },
  {
   "cell_type": "code",
   "execution_count": 13,
   "metadata": {},
   "outputs": [
    {
     "name": "stdout",
     "output_type": "stream",
     "text": [
      "PreActivation1  | Gradient Correctness: True \n",
      "B1              | Gradient Correctness: True \n",
      "W1              | Gradient Correctness: True \n"
     ]
    }
   ],
   "source": [
    "dPreActivation1 = dHidden1 * Hidden1 * (1 - Hidden1)\n",
    "check('PreActivation1', dPreActivation1, PreActivation1_grad)\n",
    "\n",
    "dB1 = np.sum(dPreActivation1, axis=0, keepdims=True)\n",
    "check('B1', dB1, B1_grad)\n",
    "\n",
    "dW1 = sample_inp.T @ dPreActivation1\n",
    "check('W1', dW1, W1_grad)"
   ]
  },
  {
   "cell_type": "markdown",
   "metadata": {},
   "source": [
    "## Updating Model Parameters: (5 Points)\n",
    "\n",
    "With the gradients computed during the backpropagation step, the next critical phase in training our neural network involves updating the model's parameters. This step is essential for minimizing the loss function and improving the model's predictions over time.\n",
    "\n",
    "For our model, this translates to the following updates:\n",
    "- For the first layer's weights (`W1`) and biases (`B1`), we subtract the product of the learning rate and their respective gradients (`dW1`, `dB1`).\n",
    "- Similarly, this pattern is repeated for the subsequent layers' weights (`W2`, `W3`, `W4`) and biases (`B2`, `B3`, `B4`), ensuring that each parameter is nudged in the direction that minimizes the loss.\n",
    "\n",
    "**Please complete the #TODO parts of the following cell**"
   ]
  },
  {
   "cell_type": "code",
   "execution_count": 14,
   "metadata": {},
   "outputs": [],
   "source": [
    "learning_rate = 0.01\n",
    "\n",
    "W1 -= learning_rate * dW1\n",
    "B1 -= learning_rate * dB1\n",
    "\n",
    "W2 -= learning_rate * dW2\n",
    "B2 -= learning_rate * dB2\n",
    "\n",
    "W3 -= learning_rate * dW3\n",
    "B3 -= learning_rate * dB3\n",
    "\n",
    "W4 -= learning_rate * dW4\n",
    "B4 -= learning_rate * dB4"
   ]
  },
  {
   "cell_type": "markdown",
   "metadata": {},
   "source": [
    "## Activation Functions Using Numpy Instead of PyTorch: (10 Points)\n",
    "\n",
    "In the next phase of this notebook, we will try to implement a complete multilayer perceptron (MLP) model using only the NumPy library. For this purpose, you should implement the following activation functions using only NumPy functions:\n",
    "\n",
    "- **Sigmoid:**\n",
    "  The Sigmoid function is defined as \\( \\sigma(x) = \\frac{1}{1 + e^{-x}} \\). It maps any input value to a value between 0 and 1.\n",
    "\n",
    "- **ReLU:**\n",
    "  The Rectified Linear Unit (ReLU) function is defined as \\( \\text{ReLU}(x) = \\max(0, x) \\). It introduces non-linearity with less computational complexity and has become one of the most popular activation functions in deep learning.\n",
    "\n",
    "- **Tanh:**\n",
    "  The Hyperbolic Tangent (Tanh) function is defined as \\( \\tanh(x) = \\frac{e^{x} - e^{-x}}{e^{x} + e^{-x}} \\). It maps any input value to a range between -1 and 1.\n",
    "\n",
    "**Please complete the #TODO parts of the following cells**\n"
   ]
  },
  {
   "cell_type": "code",
   "execution_count": 15,
   "metadata": {},
   "outputs": [],
   "source": [
    "def sigmoid(x):\n",
    "    return 1 / (1 + np.exp(-x))\n",
    "\n",
    "def relu(x):\n",
    "    return np.maximum(0, x)\n",
    "\n",
    "def tanh(x):\n",
    "    return np.tanh(x)"
   ]
  },
  {
   "cell_type": "markdown",
   "metadata": {},
   "source": [
    "## Writing the MLP Class: (10 Points)\n",
    "\n",
    "In the next cell, you are tasked with completing the MLP class, which will serve as the foundation for training an MLP model on the MNIST dataset. The class should have the essential components of an MLP, including:\n",
    "\n",
    "- **Initialization of Parameters:** Define the architecture (number of layers, size of each layer) and initialize the weights and biases accordingly. This sets up the structure of your neural network and prepares it for the forward and backward passes. You can use NumPy random functions for this purpose.\n",
    "\n",
    "- **Forward Pass Method:** Implement the forward propagation algorithm to compute the output of the network for a given input. This involves applying a series of linear transformations and non-linear activations to the input data to obtain the final output. You are free to choose the size of the layers and also the activation functions\n",
    "\n",
    "- **Loss Computation:** Calculate the loss to evaluate how well the model is performing. The loss function measures the discrepancy between the predicted outputs and the actual targets, guiding the training process. Use Cross-entropy loss for this example.\n",
    "\n",
    "- **Backward Pass Method:** Compute the gradients of the loss with respect to the parameters **manually**.\n",
    "\n",
    "- **Step Method:**\n",
    "  The step method is responsible for updating the model's parameters (weights and biases) using the gradients computed after the backward pass. Typically, the step method will iterate over all parameters and apply the update:\n",
    "  \\[ \\text{parameter} = \\text{parameter} - (\\text{learning_rate} \\times \\text{gradient}) \\]\n",
    "\n",
    "\n",
    "\n",
    "Feel free to design the architecture of your model, select appropriate hyperparameters, and choose activation functions based on your specific requirements and objectives! This flexibility allows you to tailor the model to optimally address your unique dataset and performance goals.\n",
    "\n",
    "\n",
    "All calculations in this exercise **should be performed using NumPy** and its functions.\n",
    "\n",
    "**Please complete the #TODO parts of the following cell**\n",
    "\n",
    "\n",
    "\n"
   ]
  },
  {
   "cell_type": "code",
   "execution_count": 16,
   "metadata": {},
   "outputs": [],
   "source": [
    "class MLP:\n",
    "    def __init__(self, n_inp, n_hid1, n_hid2, n_hid3, n_out):\n",
    "        self.W1 = np.random.randn(n_inp, n_hid1) * 0.01\n",
    "        self.B1 = np.zeros((1, n_hid1))\n",
    "        self.W2 = np.random.randn(n_hid1, n_hid2) * 0.01\n",
    "        self.B2 = np.zeros((1, n_hid2))\n",
    "        self.W3 = np.random.randn(n_hid2, n_hid3) * 0.01\n",
    "        self.B3 = np.zeros((1, n_hid3))\n",
    "        self.W4 = np.random.randn(n_hid3, n_out) * 0.01\n",
    "        self.B4 = np.zeros((1, n_out))\n",
    "    \n",
    "    def forward(self, X):\n",
    "        self.Z1 = np.dot(X, self.W1) + self.B1\n",
    "        self.A1 = relu(self.Z1)\n",
    "        self.Z2 = np.dot(self.A1, self.W2) + self.B2\n",
    "        self.A2 = relu(self.Z2)\n",
    "        self.Z3 = np.dot(self.A2, self.W3) + self.B3\n",
    "        self.A3 = relu(self.Z3)\n",
    "        self.Z4 = np.dot(self.A3, self.W4) + self.B4\n",
    "        self.A4 = softmax(self.Z4)\n",
    "        return self.A4\n",
    "    \n",
    "    def Loss(self, Y):\n",
    "        m = Y.shape[0]\n",
    "        log_likelihood = -np.log(self.A4[range(m), Y])\n",
    "        loss = np.sum(log_likelihood) / m\n",
    "        return loss\n",
    "    \n",
    "    def backward(self, X, Y):\n",
    "        m = Y.shape[0]\n",
    "        dZ4 = self.A4\n",
    "        dZ4[range(m), Y] -= 1\n",
    "        dZ4 /= m\n",
    "\n",
    "        self.dW4 = np.dot(self.A3.T, dZ4)\n",
    "        self.dB4 = np.sum(dZ4, axis=0, keepdims=True)\n",
    "        dA3 = np.dot(dZ4, self.W4.T)\n",
    "\n",
    "        dZ3 = dA3 * (self.Z3 > 0)\n",
    "        self.dW3 = np.dot(self.A2.T, dZ3)\n",
    "        self.dB3 = np.sum(dZ3, axis=0, keepdims=True)\n",
    "        dA2 = np.dot(dZ3, self.W3.T)\n",
    "\n",
    "        dZ2 = dA2 * (self.Z2 > 0)\n",
    "        self.dW2 = np.dot(self.A1.T, dZ2)\n",
    "        self.dB2 = np.sum(dZ2, axis=0, keepdims=True)\n",
    "        dA1 = np.dot(dZ2, self.W2.T)\n",
    "\n",
    "        dZ1 = dA1 * (self.Z1 > 0)\n",
    "        self.dW1 = np.dot(X.T, dZ1)\n",
    "        self.dB1 = np.sum(dZ1, axis=0, keepdims=True)\n",
    "    \n",
    "    def step(self, learning_rate):\n",
    "        self.W1 -= learning_rate * self.dW1\n",
    "        self.B1 -= learning_rate * self.dB1\n",
    "        self.W2 -= learning_rate * self.dW2\n",
    "        self.B2 -= learning_rate * self.dB2\n",
    "        self.W3 -= learning_rate * self.dW3\n",
    "        self.B3 -= learning_rate * self.dB3\n",
    "        self.W4 -= learning_rate * self.dW4\n",
    "        self.B4 -= learning_rate * self.dB4\n",
    "\n",
    "def softmax(x):\n",
    "    exp_x = np.exp(x - np.max(x, axis=1, keepdims=True))\n",
    "    return exp_x / np.sum(exp_x, axis=1, keepdims=True)"
   ]
  },
  {
   "cell_type": "markdown",
   "metadata": {},
   "source": [
    "## Setting the Hyperparameters and Model Configuration:\n",
    "\n",
    "Hyperparameters, such as the learning rate, number of epochs, and batch size, play a crucial role in the training process and significantly influence the model's performance and efficiency. Unlike model parameters that are learned during training, hyperparameters must be predefined and can have a profound impact on the learning dynamics and final outcomes.\n",
    "\n",
    "- **Learning Rate:** Determines the step size at each iteration while moving toward a minimum of the loss function. An appropriately chosen learning rate ensures that the model converges efficiently to a good solution.\n",
    "\n",
    "- **Number of Epochs:** The total number of times the training dataset is passed through the network. Properly setting this value ensures that the model is adequately trained without falling into the pitfalls of underfitting or overfitting.\n",
    "\n",
    "- **Batch Size:** Dictates the number of training examples used in one iteration. It balances the trade-off between the regularization effect and the stability of the gradient, also impacting memory usage and computational speed.\n",
    "\n",
    "- **Model Size and Parameters:** Refers to the architecture of the MLP, including the number of layers and the number of neurons in each layer. The model's size directly affects its capacity to learn, with more parameters allowing for more complex functions to be modeled. However, larger models also require more data to train effectively without overfitting and entail higher computational costs. You could define this part in the previous cell as you wrote tha MLP class as well.\n",
    "\n",
    "In the next cell, you will define these hyperparameters and configure the model's architecture.\n",
    "\n",
    "**Please complete the #TODO parts of the following cell**\n"
   ]
  },
  {
   "cell_type": "code",
   "execution_count": 17,
   "metadata": {},
   "outputs": [],
   "source": [
    "n_inp = 784          \n",
    "n_hid1 = 128         \n",
    "n_hid2 = 64\n",
    "n_hid3 = 32          \n",
    "n_out = 10          \n",
    "\n",
    "batch_size = 64\n",
    "learning_rate = 0.01\n",
    "n_epochs = 10        \n",
    "\n",
    "mlp = MLP(n_inp, n_hid1, n_hid2, n_hid3, n_out)"
   ]
  },
  {
   "cell_type": "markdown",
   "metadata": {},
   "source": [
    "## Creating Batches for Different Splits of Data (5 Points)\n",
    "\n",
    "In the next cell, you should focus on batching the different splits of the MNIST dataset: the training, validation, and test sets.\n",
    "\n",
    "Implementing this batching process will prepare your data for the training loop, where each batch will be fed into the model sequentially to perform forward and backward passes and update the model parameters.\n",
    "\n",
    "**Please complete the #TODO parts of the following cell**\n"
   ]
  },
  {
   "cell_type": "code",
   "execution_count": 18,
   "metadata": {},
   "outputs": [],
   "source": [
    "def create_batches(X, Y, batch_size):\n",
    "    m = X.shape[0]\n",
    "    indices = np.arange(m)\n",
    "    np.random.shuffle(indices)\n",
    "    X = X[indices]\n",
    "    Y = Y[indices]\n",
    "\n",
    "    batches = []\n",
    "    for i in range(0, m, batch_size):\n",
    "        X_batch = X[i:i + batch_size]\n",
    "        Y_batch = Y[i:i + batch_size]\n",
    "        batches.append((X_batch, Y_batch))\n",
    "    return batches\n",
    "\n",
    "training_batches = create_batches(X_train, Y_train, batch_size)\n",
    "validation_batches = create_batches(X_val, Y_val, batch_size)\n",
    "test_batches = create_batches(X_test, Y_test, batch_size)"
   ]
  },
  {
   "cell_type": "markdown",
   "metadata": {},
   "source": [
    "## Writing the Training Loop (15 Points)\n",
    "\n",
    "Training a neural network involves iteratively adjusting its parameters to minimize a loss function. This process is encapsulated within a training loop, where the model learns from the training data over multiple epochs. Each epoch represents one complete pass through the entire dataset.\n",
    "\n",
    "In the next cell, you should do the following:\n",
    "\n",
    "1. **Initialize the MLP Model:** Before you can start training, you need to instantiate your MLP class.\n",
    "\n",
    "2. **Implement the Training Loop:** The training loop should include the following key steps for each epoch:\n",
    "   - **Forward Pass:** For each batch of data, compute the model's predictions by passing the data through the model from input to output.\n",
    "   - **Compute Loss:** Evaluate how well the model's predictions match the actual labels by calculating the loss, using a suitable loss function for classification (e.g., cross-entropy loss).\n",
    "   - **Backward Pass:** Compute the gradients of the loss function with respect to the model's parameters.\n",
    "   - **Update Parameters:** Adjust the model's parameters in the opposite direction of the gradients to minimize the loss.\n",
    "   - **Validation:** Periodically, after a set number of epochs, evaluate the model's performance on the validation set to monitor its learning progress and adjust training parameters if necessary.\n",
    "\n",
    "Remember to track the loss during training to monitor the model's performance over time. This information is valuable for debugging and optimizing the training process.\n",
    "\n",
    "**Please complete the #TODO parts of the following cell**\n"
   ]
  },
  {
   "cell_type": "code",
   "execution_count": 19,
   "metadata": {},
   "outputs": [
    {
     "name": "stdout",
     "output_type": "stream",
     "text": [
      "Epoch 1/50\t|\tTraining Loss: 2.3015\t|\tValidation Loss: 2.3018\n",
      "Epoch 2/50\t|\tTraining Loss: 2.3014\t|\tValidation Loss: 2.3018\n",
      "Epoch 3/50\t|\tTraining Loss: 2.3013\t|\tValidation Loss: 2.3016\n",
      "Epoch 4/50\t|\tTraining Loss: 2.3006\t|\tValidation Loss: 2.2985\n",
      "Epoch 5/50\t|\tTraining Loss: 1.9504\t|\tValidation Loss: 2.1856\n",
      "Epoch 6/50\t|\tTraining Loss: 1.0432\t|\tValidation Loss: 0.6120\n",
      "Epoch 7/50\t|\tTraining Loss: 0.5225\t|\tValidation Loss: 0.4227\n",
      "Epoch 8/50\t|\tTraining Loss: 0.3943\t|\tValidation Loss: 0.3448\n",
      "Epoch 9/50\t|\tTraining Loss: 0.3235\t|\tValidation Loss: 0.2929\n",
      "Epoch 10/50\t|\tTraining Loss: 0.2724\t|\tValidation Loss: 0.2549\n",
      "Epoch 11/50\t|\tTraining Loss: 0.2349\t|\tValidation Loss: 0.2250\n",
      "Epoch 12/50\t|\tTraining Loss: 0.2047\t|\tValidation Loss: 0.1980\n",
      "Epoch 13/50\t|\tTraining Loss: 0.1794\t|\tValidation Loss: 0.1737\n",
      "Epoch 14/50\t|\tTraining Loss: 0.1587\t|\tValidation Loss: 0.1569\n",
      "Epoch 15/50\t|\tTraining Loss: 0.1416\t|\tValidation Loss: 0.1455\n",
      "Epoch 16/50\t|\tTraining Loss: 0.1274\t|\tValidation Loss: 0.1381\n",
      "Epoch 17/50\t|\tTraining Loss: 0.1154\t|\tValidation Loss: 0.1325\n",
      "Epoch 18/50\t|\tTraining Loss: 0.1051\t|\tValidation Loss: 0.1290\n",
      "Epoch 19/50\t|\tTraining Loss: 0.0962\t|\tValidation Loss: 0.1259\n",
      "Epoch 20/50\t|\tTraining Loss: 0.0884\t|\tValidation Loss: 0.1234\n",
      "Epoch 21/50\t|\tTraining Loss: 0.0815\t|\tValidation Loss: 0.1202\n",
      "Epoch 22/50\t|\tTraining Loss: 0.0752\t|\tValidation Loss: 0.1176\n",
      "Epoch 23/50\t|\tTraining Loss: 0.0696\t|\tValidation Loss: 0.1163\n",
      "Epoch 24/50\t|\tTraining Loss: 0.0644\t|\tValidation Loss: 0.1148\n",
      "Epoch 25/50\t|\tTraining Loss: 0.0597\t|\tValidation Loss: 0.1139\n",
      "Epoch 26/50\t|\tTraining Loss: 0.0554\t|\tValidation Loss: 0.1135\n",
      "Epoch 27/50\t|\tTraining Loss: 0.0512\t|\tValidation Loss: 0.1120\n",
      "Epoch 28/50\t|\tTraining Loss: 0.0474\t|\tValidation Loss: 0.1120\n",
      "Epoch 29/50\t|\tTraining Loss: 0.0439\t|\tValidation Loss: 0.1118\n",
      "Epoch 30/50\t|\tTraining Loss: 0.0406\t|\tValidation Loss: 0.1115\n",
      "Epoch 31/50\t|\tTraining Loss: 0.0375\t|\tValidation Loss: 0.1109\n",
      "Epoch 32/50\t|\tTraining Loss: 0.0358\t|\tValidation Loss: 0.1103\n",
      "Epoch 33/50\t|\tTraining Loss: 0.0429\t|\tValidation Loss: 0.1129\n",
      "Epoch 34/50\t|\tTraining Loss: 0.0326\t|\tValidation Loss: 0.1086\n",
      "Epoch 35/50\t|\tTraining Loss: 0.0278\t|\tValidation Loss: 0.1048\n",
      "Epoch 36/50\t|\tTraining Loss: 0.0254\t|\tValidation Loss: 0.1038\n",
      "Epoch 37/50\t|\tTraining Loss: 0.0233\t|\tValidation Loss: 0.1047\n",
      "Epoch 38/50\t|\tTraining Loss: 0.0213\t|\tValidation Loss: 0.1043\n",
      "Epoch 39/50\t|\tTraining Loss: 0.0195\t|\tValidation Loss: 0.1046\n",
      "Epoch 40/50\t|\tTraining Loss: 0.0179\t|\tValidation Loss: 0.1048\n",
      "Epoch 41/50\t|\tTraining Loss: 0.0164\t|\tValidation Loss: 0.1053\n",
      "Epoch 42/50\t|\tTraining Loss: 0.0150\t|\tValidation Loss: 0.1058\n",
      "Epoch 43/50\t|\tTraining Loss: 0.0136\t|\tValidation Loss: 0.1066\n",
      "Epoch 44/50\t|\tTraining Loss: 0.0124\t|\tValidation Loss: 0.1075\n",
      "Epoch 45/50\t|\tTraining Loss: 0.0113\t|\tValidation Loss: 0.1079\n",
      "Epoch 46/50\t|\tTraining Loss: 0.0103\t|\tValidation Loss: 0.1087\n",
      "Epoch 47/50\t|\tTraining Loss: 0.0095\t|\tValidation Loss: 0.1097\n",
      "Epoch 48/50\t|\tTraining Loss: 0.0087\t|\tValidation Loss: 0.1092\n",
      "Epoch 49/50\t|\tTraining Loss: 0.0079\t|\tValidation Loss: 0.1100\n",
      "Epoch 50/50\t|\tTraining Loss: 0.0073\t|\tValidation Loss: 0.1104\n"
     ]
    }
   ],
   "source": [
    "mlp = MLP(n_inp, n_hid1, n_hid2, n_out)\n",
    "\n",
    "for epoch in range(n_epochs):\n",
    "    train_loss = 0\n",
    "    for X, Y in training_batches:\n",
    "        predictions = mlp.forward(X)\n",
    "        \n",
    "        loss = mlp.Loss(Y)\n",
    "        train_loss += loss\n",
    "        \n",
    "        mlp.backward(X, Y)\n",
    "        \n",
    "        mlp.step(learning_rate)\n",
    "    \n",
    "    train_loss /= len(training_batches)\n",
    "    \n",
    "    val_loss = 0\n",
    "    for X, Y in validation_batches:\n",
    "        predictions = mlp.forward(X)\n",
    "        \n",
    "        loss = mlp.Loss(Y)\n",
    "        val_loss += loss\n",
    "    \n",
    "    val_loss /= len(validation_batches)\n",
    "    \n",
    "    print(f'Epoch {epoch + 1}/{n_epochs} - Training Loss: {train_loss:.4f} - Validation Loss: {val_loss:.4f}')\n",
    "\n",
    "test_loss = 0\n",
    "for X, Y in test_batches:\n",
    "    predictions = mlp.forward(X)\n",
    "    \n",
    "    loss = mlp.Loss(Y)\n",
    "    test_loss += loss\n",
    "\n",
    "test_loss /= len(test_batches)"
   ]
  },
  {
   "cell_type": "markdown",
   "metadata": {},
   "source": [
    "## Plotting the Validation and Training Loss (5 Points)\n",
    "\n",
    "Visualizing the training and validation loss over time is a crucial aspect of the model development process. It provides valuable insights into how well the model is learning, helps identify issues such as overfitting or underfitting, and can guide decisions on model adjustments or hyperparameter tuning.\n",
    "\n",
    "In the next cell, you will create a plot to visualize the training and validation loss over time.\n",
    "\n",
    "**Please complete the #TODO parts of the following cell**"
   ]
  },
  {
   "cell_type": "code",
   "execution_count": 20,
   "metadata": {},
   "outputs": [
    {
     "data": {
      "image/png": "[encoded data removed]",
      "text/plain": [
       "<Figure size 640x480 with 1 Axes>"
      ]
     },
     "metadata": {},
     "output_type": "display_data"
    }
   ],
   "source": [
    "mlp = MLP(n_inp, n_hid1, n_hid2, n_out)\n",
    "\n",
    "train_losses = []\n",
    "val_losses = []\n",
    "\n",
    "for epoch in range(n_epochs):\n",
    "    train_loss = 0\n",
    "    for X, Y in training_batches:\n",
    "        predictions = mlp.forward(X)\n",
    "        \n",
    "        loss = mlp.Loss(Y)\n",
    "        train_loss += loss\n",
    "        \n",
    "        mlp.backward(X, Y)\n",
    "        \n",
    "        mlp.step(learning_rate)\n",
    "    \n",
    "    train_loss /= len(training_batches)\n",
    "    train_losses.append(train_loss)\n",
    "    \n",
    "    val_loss = 0\n",
    "    for X, Y in validation_batches:\n",
    "        predictions = mlp.forward(X)\n",
    "        \n",
    "        loss = mlp.Loss(Y)\n",
    "        val_loss += loss\n",
    "    \n",
    "    val_loss /= len(validation_batches)\n",
    "    val_losses.append(val_loss)\n",
    "\n",
    "plt.figure(figsize=(10, 5))\n",
    "plt.plot(range(n_epochs), train_losses, label='Training Loss')\n",
    "plt.plot(range(n_epochs), val_losses, label='Validation Loss')\n",
    "plt.xlabel('Epoch')\n",
    "plt.ylabel('Loss')\n",
    "plt.title('Training and Validation Loss')\n",
    "plt.legend()\n",
    "plt.show()\n"
   ]
  },
  {
   "cell_type": "markdown",
   "metadata": {},
   "source": [
    "## Visualizing Some Examples (5 Points)\n",
    "\n",
    "In the next cell, visualize a subset of the test images along with their true and predicted labels.\n",
    "\n",
    "**Please complete the #TODO parts of the following cell**"
   ]
  },
  {
   "cell_type": "code",
   "execution_count": 25,
   "metadata": {},
   "outputs": [
    {
     "data": {
      "image/png": "[encoded data removed]",
      "text/plain": [
       "<Figure size 1600x1600 with 64 Axes>"
      ]
     },
     "metadata": {},
     "output_type": "display_data"
    }
   ],
   "source": [
    "def visualize_predictions(model, X_test, Y_test, num_samples=10):\n",
    "    indices = np.random.choice(len(X_test), num_samples, replace=False)\n",
    "    X_subset = X_test[indices]\n",
    "    Y_subset = Y_test[indices]\n",
    "    \n",
    "    predictions = model.forward(X_subset)\n",
    "    predicted_labels = np.argmax(predictions, axis=1)\n",
    "    \n",
    "    plt.figure(figsize=(15, 5))\n",
    "    for i in range(num_samples):\n",
    "        plt.subplot(1, num_samples, i + 1)\n",
    "        plt.imshow(X_subset[i].reshape(28, 28), cmap='gray')\n",
    "        plt.title(f'True: {Y_subset[i]} | Pred: {predicted_labels[i]}')\n",
    "        plt.axis('off')\n",
    "    plt.show()\n",
    "\n",
    "visualize_predictions(mlp, X_test, Y_test)"
   ]
  },
  {
   "cell_type": "markdown",
   "metadata": {},
   "source": [
    "## Calculating Model Metrics for Different Splits (15 Points)\n",
    "\n",
    "Evaluating the performance of your MLP model across different data splits (training, validation, and test sets) is critical for understanding its generalization ability and overall effectiveness. This evaluation helps ensure that the model performs well not only on the data it was trained on but also on new, unseen data.\n",
    "\n",
    "In the next cell, you should calculate model metrics(precision, recall, F1, ...) for each split and report them.\n",
    "\n",
    "You can use sklearn library for this part, if you want to.\n",
    "\n",
    "**Please complete the #TODO parts of the following cells**"
   ]
  },
  {
   "cell_type": "code",
   "execution_count": 22,
   "metadata": {},
   "outputs": [
    {
     "name": "stdout",
     "output_type": "stream",
     "text": [
      "              precision    recall  f1-score   support\n",
      "\n",
      "           0       1.00      1.00      1.00      4932\n",
      "           1       1.00      1.00      1.00      5678\n",
      "           2       1.00      1.00      1.00      4968\n",
      "           3       0.99      1.00      1.00      5101\n",
      "           4       0.99      0.99      0.99      4859\n",
      "           5       1.00      1.00      1.00      4506\n",
      "           6       0.99      1.00      1.00      4951\n",
      "           7       1.00      1.00      1.00      5175\n",
      "           8       1.00      1.00      1.00      4842\n",
      "           9       1.00      0.99      0.99      4988\n",
      "\n",
      "    accuracy                           1.00     50000\n",
      "   macro avg       1.00      1.00      1.00     50000\n",
      "weighted avg       1.00      1.00      1.00     50000\n",
      "\n"
     ]
    }
   ],
   "source": [
    "def evaluate_model(model, X, Y, split_name):\n",
    "    predictions = model.forward(X)\n",
    "    predicted_labels = np.argmax(predictions, axis=1)\n",
    "    \n",
    "    report = classification_report(Y, predicted_labels, digits=4)\n",
    "    \n",
    "    print(report)\n",
    "\n",
    "train_X = np.concatenate([batch[0] for batch in training_batches])\n",
    "train_Y = np.concatenate([batch[1] for batch in training_batches])\n",
    "evaluate_model(mlp, train_X, train_Y, 'Training')"
   ]
  },
  {
   "cell_type": "code",
   "execution_count": 23,
   "metadata": {},
   "outputs": [
    {
     "name": "stdout",
     "output_type": "stream",
     "text": [
      "              precision    recall  f1-score   support\n",
      "\n",
      "           0       0.98      0.98      0.98       991\n",
      "           1       0.99      0.99      0.99      1064\n",
      "           2       0.97      0.98      0.98       990\n",
      "           3       0.96      0.98      0.97      1030\n",
      "           4       0.97      0.98      0.98       983\n",
      "           5       0.97      0.95      0.96       915\n",
      "           6       0.98      0.99      0.98       967\n",
      "           7       0.99      0.98      0.98      1090\n",
      "           8       0.96      0.97      0.97      1009\n",
      "           9       0.97      0.94      0.96       961\n",
      "\n",
      "    accuracy                           0.97     10000\n",
      "   macro avg       0.97      0.97      0.97     10000\n",
      "weighted avg       0.97      0.97      0.97     10000\n",
      "\n"
     ]
    }
   ],
   "source": [
    "val_X = np.concatenate([batch[0] for batch in validation_batches])\n",
    "val_Y = np.concatenate([batch[1] for batch in validation_batches])\n",
    "evaluate_model(mlp, val_X, val_Y, 'Validation')"
   ]
  },
  {
   "cell_type": "code",
   "execution_count": 24,
   "metadata": {},
   "outputs": [
    {
     "name": "stdout",
     "output_type": "stream",
     "text": [
      "              precision    recall  f1-score   support\n",
      "\n",
      "           0       0.98      0.99      0.98       980\n",
      "           1       0.99      0.99      0.99      1135\n",
      "           2       0.98      0.98      0.98      1032\n",
      "           3       0.95      0.98      0.96      1010\n",
      "           4       0.98      0.97      0.97       982\n",
      "           5       0.98      0.97      0.97       892\n",
      "           6       0.98      0.98      0.98       958\n",
      "           7       0.98      0.97      0.97      1028\n",
      "           8       0.97      0.97      0.97       974\n",
      "           9       0.98      0.95      0.97      1009\n",
      "\n",
      "    accuracy                           0.98     10000\n",
      "   macro avg       0.98      0.98      0.98     10000\n",
      "weighted avg       0.98      0.98      0.98     10000\n",
      "\n"
     ]
    }
   ],
   "source": [
    "test_X = np.concatenate([batch[0] for batch in test_batches])\n",
    "test_Y = np.concatenate([batch[1] for batch in test_batches])\n",
    "evaluate_model(mlp, test_X, test_Y, 'Test')"
   ]
  },
  {
   "cell_type": "markdown",
   "metadata": {},
   "source": [
    "## Reporting the Findings (5 Points)\n",
    "\n",
    "In the next cell you should do the following:\n",
    "\n",
    "1. **Analyze Results:** Compare the metrics across the different splits. A model that performs exceptionally well on the training set but poorly on the validation/test sets may be overfitting. Conversely, underfitting may be indicated by poor performance across all sets.\n",
    "\n",
    "2. **Report Findings:** Summarize the results in a clear and concise manner."
   ]
  },
  {
   "cell_type": "markdown",
   "metadata": {},
   "source": [
    "### Your Explanation:\n",
    "Findings:\n",
    "\n",
    "Training Data Metrics: Typically, the model performs best on the training data as it has been optimized to minimize the loss on this set. This report shows high accuracy, precision, recall, and F1-scores, indicating the model has learned the patterns in the training data well.\n",
    "\n",
    "Validation Data Metrics: The performance on the validation set is generally lower than on the training set. This report is crucial for hyperparameter tuning and ensuring that the model generalizes well. If the validation metrics are close to the training metrics, it indicates that the model generalizes well. However, a significant drop in performance would suggest overfitting.\n",
    "\n",
    "Test Data Metrics: This final evaluation on the test set provides an unbiased assessment of the model's performance on new, unseen data. Ideally, the metrics should be close to the validation metrics, confirming that the model generalizes well.\n",
    "\n",
    "Summary:\n",
    "\n",
    "Overfitting: If the training metrics are significantly better than the validation/test metrics, the model might be overfitting. This means it is too tightly tuned to the training data and fails to generalize.\n",
    "\n",
    "Underfitting: Poor performance across all splits suggests underfitting, indicating that the model is too simple to capture the underlying patterns in the data.\n",
    "\n",
    "Balanced Performance: Consistent metrics across training, validation, and test sets indicate a well-generalized model.\n",
    "The detailed classification reports provide insights into the model's strengths and weaknesses for different classes, helping to identify any specific issues or biases in the model's predictions."
   ]
  }
 ],
 "metadata": {
  "kernelspec": {
   "display_name": "ai",
   "language": "python",
   "name": "python3"
  },
  "language_info": {
   "codemirror_mode": {
    "name": "ipython",
    "version": 3
   },
   "file_extension": ".py",
   "mimetype": "text/x-python",
   "name": "python",
   "nbconvert_exporter": "python",
   "pygments_lexer": "ipython3",
   "version": "3.12.2"
  }
 },
 "nbformat": 4,
 "nbformat_minor": 2
}
